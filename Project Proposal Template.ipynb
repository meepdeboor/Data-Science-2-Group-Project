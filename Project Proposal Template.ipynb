{
 "cells": [
  {
   "cell_type": "raw",
   "id": "33dd6c4c",
   "metadata": {},
   "source": [
    "---\n",
    "title: \"Project proposal\"\n",
    "format: \n",
    "  html:\n",
    "    toc: true\n",
    "    toc-title: Contents\n",
    "    code-fold: show\n",
    "    self-contained: true\n",
    "jupyter: python3\n",
    "---"
   ]
  },
  {
   "cell_type": "markdown",
   "id": "0116f49b",
   "metadata": {},
   "source": [
    "## Instructions {-}\n",
    "\n",
    "1. Please answer the following questions as part of your project proposal.\n",
    "\n",
    "2. Write your answers in the *Markdown* cells of the Jupyter notebook. You don't need to write any code, but if you want to, you may use the *Code* cells.\n",
    "\n",
    "3. Use [Quarto](https://quarto.org/docs/output-formats/html-basics.html) to print the *.ipynb* file as HTML. You will need to open the command prompt, navigate to the directory containing the file, and use the command: `quarto render filename.ipynb --to html`. Submit the HTML file.\n",
    "\n",
    "4. The project proposal is worth 8 points, and is due on **27th January 2023 at 11:59 pm**. \n",
    "\n",
    "5. You must make one submission as a group, and not individually.\n",
    "\n",
    "6. Each team member must have at least **one commit** on the team's github repository. No points will be awarded to the team member(s) with no commits.\n",
    "\n",
    "7. Share the link of your project's GitHub repository [here](https://docs.google.com/spreadsheets/d/1khao3unpj_vsx4kOSg_Zzo77YK1UWL2w73Oa0aAirOo/edit#gid=0)."
   ]
  },
  {
   "cell_type": "markdown",
   "id": "fe7ea9bb",
   "metadata": {},
   "source": [
    "# 1) Team name\n",
    "The Boop Beepers\n",
    "\n",
    "*(0 points)*"
   ]
  },
  {
   "cell_type": "markdown",
   "id": "16fccc9b",
   "metadata": {},
   "source": [
    "# 2) Member names\n",
    "Malva de Boor, Henry Shavel, Albert Song, Tyler McLaughlin\n",
    "\n",
    "*(0 points)*"
   ]
  },
  {
   "cell_type": "markdown",
   "id": "220a6528",
   "metadata": {},
   "source": [
    "# 3) Link to the GitHub repository\n",
    "Share the link of the team's project repository on GitHub.\n",
    "\n",
    "Also, put the link of your project's GitHub repository [here](https://docs.google.com/spreadsheets/d/1khao3unpj_vsx4kOSg_Zzo77YK1UWL2w73Oa0aAirOo/edit#gid=0).\n",
    "\n",
    "We believe there is no harm in having other teams view your GitHub repository. However, if you don't want anyone to see your team's work, you may make the repository *Private* and add your instructor and graduate TA as *Colloborators* in it.\n",
    "\n",
    "*(0 points)*"
   ]
  },
  {
   "cell_type": "markdown",
   "id": "c865b497",
   "metadata": {},
   "source": [
    "https://github.com/meepdeboor/Data-Science-2-Group-Project"
   ]
  },
  {
   "cell_type": "markdown",
   "id": "16c1a490",
   "metadata": {},
   "source": [
    "# 4) Topic\n",
    "Mention the topic of your course project.\n",
    "\n",
    "*(0.25 points)*"
   ]
  },
  {
   "cell_type": "markdown",
   "id": "e37c6846",
   "metadata": {},
   "source": [
    "Our topic is how the chemical properties of water affects water potability."
   ]
  },
  {
   "cell_type": "markdown",
   "id": "9403cdfb",
   "metadata": {},
   "source": [
    "# 5) Problem statement\n",
    "Explain the problem statement. The problem statement must include:\n",
    "\n",
    "1. The problem\n",
    "\n",
    "2. Is it a regression or classification problem or a combination of both?\n",
    "\n",
    "3. Is it an inference or prediction problem or a combination of both?\n",
    "\n",
    "4. How will you assess model accuracy?\n",
    "\n",
    "  - If it is a classification problem, then which measure(s) will you optimize for your model – precision, recall, false negative rate (FNR), accuracy, ROC-AUC etc., and why?\n",
    "  - If it is a regression problem, then which measure(s) will you optimize for your model – RMSE (Root mean squared error), MAE (mean absolute error), maximum absolute error etc., and why?\n",
    "\n",
    "5. What techniques do you think you may need to use to improve your model? If you have too many variables, some of which are  correlated or collinear, you may need to do variable selection *(techniques for variable selection that you will learn later in the course - stepwise regression, lasso, ridge regression)*. If the variables do not have a linear relationship with the response, or if some of the modeling assumptions are not satisfied, you may need to transform the predictors and/or the response (variable transformation) to obtain a better fit.\n",
    "\n",
    "*(5 points)*"
   ]
  },
  {
   "cell_type": "markdown",
   "id": "383da3fd",
   "metadata": {},
   "source": [
    "Safe and clean drinking water is vital to human health and survival. Governmental infrastructures in any country should be aware of the potability of the local water supply in order to provide their citizens with access to clean water. There are various qualities of water that determine its potability and classify it as being safe for drinking or not, including pH, hardness, and chloramine concentration. An understanding of how these different chemical properties affect the probability of the water being potable would allow relevent governmental organizations to give better estimates of the quality of water from a specific environment. Thus, the purpose of our project is to determine the probability of water being safe for drinking, based on the chemical identity of the water.\n",
    "\n",
    "As this model is concerned with the probability of water being potable or not, ie. a binary variable, it is a classification problem. This problem is both an inference problem and a prediction problem. We would like our model to be an accurate test for the potability of water based on measured chemical characteristics, hence the prediction aspect of the problem. However, it is also important to understand what characteristics of the water are most relevant in determining its potability so that those characteristics can be highlighted for more in-depth analysis. A more general understanding of the trend would also be relevant for quick back-handed estimates of water potability for time-sensitive situations.\n",
    "\n",
    "We will assess our model by the false positive rate and accuracy. We want to minimize this as if our model as false positive are more impactful than false negatives. This is because we would rather someone not drink potable water than someone drink non-potable water. We also want to prioritize accuracy as we want to ensure that our model correctly categorizes the potability of water.\n",
    "\n",
    "Since we want to determine the impact, if any, of specific water characteristics, stepwise classification would be useful in building our model as since we have multiple potential dependent variables, stepwise classification would help narrow down what variables actually affect the water potability. We also may need to use ridge classification, as some of our variables may be correlated with each other, such as hardness and conductivity. This could be solved by using ridge classification."
   ]
  },
  {
   "cell_type": "markdown",
   "id": "3eb2d4f2",
   "metadata": {},
   "source": [
    "# 6) Data sources\n",
    "\n",
    "What data sources will you use, and how will the data help answer the questions? Explain.\n",
    "\n",
    "If the data is open source, share the link of the data.\n",
    "\n",
    "*(1 point)*"
   ]
  },
  {
   "cell_type": "markdown",
   "id": "61c11fd5",
   "metadata": {},
   "source": [
    "We are using a dataset on Kaggle on water potability. This data will help answer our questions as it lists many different water samples with their respective chemical content, such as pH, sulfate level, etc, along with whether or not it was potable. From this, we can develop models to determine the effect of the chemical content on water potability.\n",
    "\n",
    "It is linked here: https://www.kaggle.com/datasets/artimule/drinking-water-probability"
   ]
  },
  {
   "cell_type": "markdown",
   "id": "cb8a845f",
   "metadata": {},
   "source": [
    "# 7) Stakeholders"
   ]
  },
  {
   "cell_type": "markdown",
   "id": "d39c782c",
   "metadata": {},
   "source": [
    "Who are the stakeholders, and how will your project benefit them? Explain.\n",
    "\n",
    "*(1 point)*"
   ]
  },
  {
   "cell_type": "markdown",
   "id": "708090fc",
   "metadata": {},
   "source": [
    "Our main stakeholders are environmental regulators, as our model can help determine what type of characteristic most heavily influences the water potability. This will let them know what characteristics to focus further research and conservation efforts on.\n",
    "\n",
    "We also include people who live in areas where water potability is an issue. This project will benefit them as they can use our model to determine the probability of their water being potable given the charactersitcs of their water."
   ]
  },
  {
   "cell_type": "markdown",
   "id": "57e41b2a",
   "metadata": {},
   "source": [
    "# 8) Results\n",
    "What kind of results do you expect? \n",
    "\n",
    "How much accuracy is required / desired in your model (based on the metric(s) chosen in question 5), such that it is useful to the stakeholders and why?\n",
    "\n",
    "**Hint:** If it is a classification model, then your model must be at least better than random classification. If it is a regression model, then your model must be at least better than trivial models, such as the one with only the intercept term.\n",
    "\n",
    "*(0.5 point)*"
   ]
  },
  {
   "cell_type": "markdown",
   "id": "d4c1e63b",
   "metadata": {},
   "source": [
    "We expect our model to be correct in classifying our water potability 95% of the time, so as to be useful for stakeholders because that is what we deemed to be statistically significant enough for conclusions to be drawn."
   ]
  },
  {
   "cell_type": "markdown",
   "id": "0c874b4f",
   "metadata": {},
   "source": [
    "# 9) Work-split\n",
    "How do you plan to split the project work amongst individual team members?\n",
    "\n",
    "*(0.25 point)*"
   ]
  },
  {
   "cell_type": "markdown",
   "id": "b107c5a8",
   "metadata": {},
   "source": [
    "We plan on distributing the work evenly between the four of us. We plan on having two people wrangle, build, and develop the models. The other two people will interpret the models and write the report."
   ]
  }
 ],
 "metadata": {
  "kernelspec": {
   "display_name": "Python 3 (ipykernel)",
   "language": "python",
   "name": "python3"
  },
  "language_info": {
   "codemirror_mode": {
    "name": "ipython",
    "version": 3
   },
   "file_extension": ".py",
   "mimetype": "text/x-python",
   "name": "python",
   "nbconvert_exporter": "python",
   "pygments_lexer": "ipython3",
   "version": "3.9.12"
  }
 },
 "nbformat": 4,
 "nbformat_minor": 5
}
